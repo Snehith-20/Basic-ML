{
  "nbformat": 4,
  "nbformat_minor": 0,
  "metadata": {
    "colab": {
      "name": "Program to check the given  number is positive or zero or negative.",
      "provenance": [],
      "authorship_tag": "ABX9TyPr/ETJasZqRVFn9f1jANNd",
      "include_colab_link": true
    },
    "kernelspec": {
      "name": "python3",
      "display_name": "Python 3"
    },
    "language_info": {
      "name": "python"
    }
  },
  "cells": [
    {
      "cell_type": "markdown",
      "metadata": {
        "id": "view-in-github",
        "colab_type": "text"
      },
      "source": [
        "<a href=\"https://colab.research.google.com/github/Snehith-20/Basic-ML/blob/main/Program_to_check_the_given_number_is_positive_or_zero_or_negative_.ipynb\" target=\"_parent\"><img src=\"https://colab.research.google.com/assets/colab-badge.svg\" alt=\"Open In Colab\"/></a>"
      ]
    },
    {
      "cell_type": "markdown",
      "metadata": {
        "id": "0JhJbv828000"
      },
      "source": [
        "#Give a number as input \n",
        "#Using if else condition if number is greater than 0 then it will print positive.\n",
        "#If the input is 0 it will print 0.\n",
        "#If the input is less than 0 it will print negative"
      ]
    },
    {
      "cell_type": "code",
      "metadata": {
        "colab": {
          "base_uri": "https://localhost:8080/"
        },
        "id": "G0T5C-Aa8Yib",
        "outputId": "a469ae4c-1c2a-44d8-bf88-8d67e7453466"
      },
      "source": [
        "num = float(input(\"Enter a number: \"))\n",
        "if num > 0:\n",
        "   print(\"Positive number\")\n",
        "elif num == 0:\n",
        "   print(\"Zero\")\n",
        "else:\n",
        "   print(\"Negative number\")\n"
      ],
      "execution_count": 3,
      "outputs": [
        {
          "output_type": "stream",
          "text": [
            "Enter a number: -1\n",
            "Negative number\n"
          ],
          "name": "stdout"
        }
      ]
    }
  ]
}